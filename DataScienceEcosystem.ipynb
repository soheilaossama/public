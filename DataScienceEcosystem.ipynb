{
 "cells": [
  {
   "cell_type": "markdown",
   "id": "9769822f",
   "metadata": {},
   "source": [
    "# Data Science Tools and Ecosystem "
   ]
  },
  {
   "cell_type": "markdown",
   "id": "a7940fc5",
   "metadata": {},
   "source": [
    "In this notebook, Data Science Tools and Ecosystem are summarized."
   ]
  },
  {
   "cell_type": "markdown",
   "id": "f511e9c6",
   "metadata": {},
   "source": [
    "**Obejctives**\n",
    "\n",
    "- List popular languages for Data Science\n",
    "- List the commonly used libraries used by Data Scienstists\n",
    "- Create a table of Data Science tools.\n",
    "- Create a code cell to evaluate arithmetic expressionsin Python.\n",
    "- Create a H1 and a H3 style headings."
   ]
  },
  {
   "cell_type": "markdown",
   "id": "bd09d204",
   "metadata": {},
   "source": [
    "Some of the popular languages that Data Scientist use are:\n",
    "\n",
    "    1. Python\n",
    "    2. Java \n",
    "    3. C++\n",
    "    4. JavaScript\n",
    "    5. Ruby\n",
    "    6. Visual Basic"
   ]
  },
  {
   "cell_type": "markdown",
   "id": "5b35cc98",
   "metadata": {},
   "source": [
    "Some of the commonly used libraries used by Data Scientists include:\n",
    "    \n",
    "    1. Panda\n",
    "    2. NumPy\n",
    "    3. Matplotlib\n",
    "    4. Seaborn\n",
    "    5. Scikit-learn\n",
    "    6. Keras\n",
    "    7. Tensor flow\n",
    "    8. PyTorch"
   ]
  },
  {
   "cell_type": "markdown",
   "id": "5f30d057",
   "metadata": {},
   "source": [
    "|Data Science Tools|\n",
    "|------------------|\n",
    "| Weka |\n",
    "| Pandas |\n",
    "| Scarby |\n"
   ]
  },
  {
   "cell_type": "markdown",
   "id": "dff03ba3",
   "metadata": {},
   "source": [
    "### Below are few examples of evaluating arithmetic expressions in Python.\n",
    "\n"
   ]
  },
  {
   "cell_type": "code",
   "execution_count": 2,
   "id": "85fbf6ef",
   "metadata": {},
   "outputs": [
    {
     "data": {
      "text/plain": [
       "17"
      ]
     },
     "execution_count": 2,
     "metadata": {},
     "output_type": "execute_result"
    }
   ],
   "source": [
    "#This is a simple arithmetic expression to multiply then add integers.\n",
    "(3*4)+5"
   ]
  },
  {
   "cell_type": "code",
   "execution_count": 3,
   "id": "834dd117",
   "metadata": {},
   "outputs": [
    {
     "data": {
      "text/plain": [
       "3.3333333333333335"
      ]
     },
     "execution_count": 3,
     "metadata": {},
     "output_type": "execute_result"
    }
   ],
   "source": [
    "#This will convert 200 minutes to hours by dividing by 60.\n",
    "200/60"
   ]
  },
  {
   "cell_type": "markdown",
   "id": "d8e1ede1",
   "metadata": {},
   "source": [
    "## Author\n",
    "Soheila Ossama"
   ]
  },
  {
   "cell_type": "code",
   "execution_count": null,
   "id": "6e4af2f2",
   "metadata": {},
   "outputs": [],
   "source": []
  }
 ],
 "metadata": {
  "kernelspec": {
   "display_name": "Python 3",
   "language": "python",
   "name": "python3"
  },
  "language_info": {
   "codemirror_mode": {
    "name": "ipython",
    "version": 3
   },
   "file_extension": ".py",
   "mimetype": "text/x-python",
   "name": "python",
   "nbconvert_exporter": "python",
   "pygments_lexer": "ipython3",
   "version": "3.8.8"
  }
 },
 "nbformat": 4,
 "nbformat_minor": 5
}
